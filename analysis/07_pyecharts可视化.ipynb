{
 "cells": [
  {
   "cell_type": "code",
   "execution_count": 23,
   "metadata": {},
   "outputs": [],
   "source": [
    "\"\"\"\n",
    "参考文档：http://pyecharts.org/#/zh-cn/charts_base\n",
    "pyecharts绘图步骤：\n",
    "1.bar =Bar(title=\"\") --> 初始化具体图表类型\n",
    "2.bar.add(...) --> 添加数据及配置项(name=\"\",x_axis=attr,y_axis=value...)\n",
    "# show_config() --> 打印输出图表的配置项\n",
    "3.render(path=\"\") --> 生成html文件,需使用浏览器打开\n",
    "\"\"\""
   ]
  },
  {
   "cell_type": "code",
   "execution_count": 1,
   "metadata": {},
   "outputs": [],
   "source": [
    "import numpy as np"
   ]
  },
  {
   "cell_type": "heading",
   "metadata": {},
   "level": 1,
   "source": [
    "柱形图 Bar"
   ]
  },
  {
   "cell_type": "code",
   "execution_count": 4,
   "metadata": {},
   "outputs": [],
   "source": [
    "from pyecharts import Bar"
   ]
  },
  {
   "cell_type": "code",
   "execution_count": 5,
   "metadata": {},
   "outputs": [],
   "source": [
    "attr = [\"衬衫\", \"羊毛衫\", \"雪纺衫\", \"裤子\", \"高跟鞋\", \"袜子\"]\n",
    "value1 = np.random.randint(10, 50, 6)\n",
    "value2 = np.random.randint(10, 50, 6)"
   ]
  },
  {
   "cell_type": "code",
   "execution_count": 6,
   "metadata": {},
   "outputs": [],
   "source": [
    "# 初始化图表\n",
    "bar = Bar(title=\"柱状图示例\", subtitle=\"...\")\n",
    "# 添加数据配置\n",
    "bar.add(name=\"商家A\", x_axis=attr, y_axis=value1, is_stack=False)  # is_stack：是否将数据堆叠\n",
    "bar.add(name=\"商家B\", x_axis=attr, y_axis=value2, is_stack=False)\n",
    "# 渲染图表\n",
    "bar.render(path=\"D://PycharmProjects/python/analysis/html/bar01.html\")"
   ]
  },
  {
   "cell_type": "code",
   "execution_count": 7,
   "metadata": {},
   "outputs": [],
   "source": [
    "bar = Bar(title=\"标记线和标记点示例\")\n",
    "bar.add(name=\"商家A\", x_axis=attr, y_axis=value1, mark_point=[\"average\"])  # mark_point：标记点\n",
    "bar.add(name=\"商家B\", x_axis=attr, y_axis=value2, mark_line=[\"min\", \"max\"])  # mark_line：标记线\n",
    "bar.render(path=\"D://PycharmProjects/python/analysis/html/bar02.html\")"
   ]
  },
  {
   "cell_type": "code",
   "execution_count": 8,
   "metadata": {},
   "outputs": [],
   "source": [
    "bar = Bar(title=\"x 轴和 y 轴交换\")\n",
    "bar.add(name=\"商家A\", x_axis=attr, y_axis=value1)\n",
    "bar.add(name=\"商家B\", x_axis=attr, y_axis=value2, is_convert=True)  # is_convert：是否行列转换\n",
    "bar.render(path=\"D://PycharmProjects/python/analysis/html/bar03.html\")"
   ]
  },
  {
   "cell_type": "heading",
   "metadata": {},
   "level": 1,
   "source": [
    "折线图 Line"
   ]
  },
  {
   "cell_type": "code",
   "execution_count": 9,
   "metadata": {},
   "outputs": [],
   "source": [
    "from pyecharts import Line"
   ]
  },
  {
   "cell_type": "code",
   "execution_count": 10,
   "metadata": {},
   "outputs": [],
   "source": [
    "attr = [\"衬衫\", \"羊毛衫\", \"雪纺衫\", \"裤子\", \"高跟鞋\", \"袜子\"]\n",
    "value1 = np.random.randint(10, 50, 6)\n",
    "value2 = np.random.randint(10, 50, 6)"
   ]
  },
  {
   "cell_type": "code",
   "execution_count": 11,
   "metadata": {},
   "outputs": [],
   "source": [
    "line = Line(title=\"折线图示例\")\n",
    "line.add(name=\"商家A\", x_axis=attr, y_axis=value1, mark_point=[\"average\"])\n",
    "line.add(name=\"商家B\", x_axis=attr, y_axis=value2, mark_line=[\"average\", \"max\"], is_smooth=True)  # is_smooth：是否平滑曲线显示\n",
    "line.render(path=\"D://PycharmProjects/python/analysis/html/line01.html\")"
   ]
  },
  {
   "cell_type": "code",
   "execution_count": 12,
   "metadata": {},
   "outputs": [],
   "source": [
    "line = Line(\"折线图示例\")\n",
    "line.add(\"商家A\", attr, value1, mark_point=[\"average\"],mark_point_symbol='diamond',  # mark_point_symbol：标记点的形状\n",
    "         mark_point_textcolor='black')  # mark_point_textcolor：标记点的字体颜色\n",
    "line.add(\"商家B\", attr, value2, mark_point=[\"average\"], mark_point_symbol='arrow',\n",
    "         mark_point_symbolsize=40)  # mark_point_symbolsize：标记点的大小\n",
    "line.render(path=\"D://PycharmProjects/python/analysis/html/line02.html\")"
   ]
  },
  {
   "cell_type": "code",
   "execution_count": 14,
   "metadata": {},
   "outputs": [],
   "source": [
    "line = Line(\"折线图-阶梯图示例\")\n",
    "line.add(\"商家A\", attr, value1, is_step=True, is_label_show=True)  # is_step：是否是阶梯线图\n",
    "line.add(\"商家B\", attr, value2, is_step=True, is_label_show=True)  # is_label_show：是否显示标签\n",
    "line.render(path=\"D://PycharmProjects/python/analysis/html/line03.html\")"
   ]
  },
  {
   "cell_type": "code",
   "execution_count": 15,
   "metadata": {},
   "outputs": [],
   "source": [
    "line = Line(\"折线图-面积图示例\")\n",
    "line.add(\"商家A\", attr, value1, is_fill=True,  # is_fill：是否填充曲线所绘制面积\n",
    "         line_opacity=0.2,  # line_opacity=0.2：线条的不透明度\n",
    "         area_opacity=0.4,  # area_opacity：填充区域的透明度 \n",
    "         symbol=None)  # symbol：图形\n",
    "line.add(\"商家B\", attr, value2, is_fill=True, area_color='#000', area_opacity=0.3, is_smooth=True)  # area_color：填充区域的颜色\n",
    "line.render(path=\"D://PycharmProjects/python/analysis/html/line04.html\")"
   ]
  },
  {
   "cell_type": "heading",
   "metadata": {},
   "level": 3,
   "source": [
    "散点图 Scatter"
   ]
  },
  {
   "cell_type": "code",
   "execution_count": 16,
   "metadata": {},
   "outputs": [],
   "source": [
    "from pyecharts import EffectScatter"
   ]
  },
  {
   "cell_type": "code",
   "execution_count": 17,
   "metadata": {},
   "outputs": [],
   "source": [
    "value1 = [10, 20, 30, 40, 50, 60]\n",
    "value2 = [25, 20, 15, 10, 60, 33]\n",
    "es = EffectScatter(title=\"动态散点图示例\")  # 带有涟漪特效动画\n",
    "es.add(name=\"effectScatter\", x_axis=value1, y_axis=value2)\n",
    "es.render(path=\"D://PycharmProjects/python/analysis/html/scatter01.html\")"
   ]
  },
  {
   "cell_type": "code",
   "execution_count": 18,
   "metadata": {},
   "outputs": [],
   "source": [
    "es = EffectScatter(\"动态散点图各种图形示例\")  # symbol_size：标记图形大小\n",
    "es.add(\"\", [10], [10], symbol_size=20, effect_scale=3.5, effect_period=3, symbol=\"pin\")  # 大头针\n",
    "es.add(\"\", [20], [20], symbol_size=15, effect_scale=4.5, effect_period=4, symbol=\"rect\")  # 矩形\n",
    "es.add(\"\", [30], [30], symbol_size=15, effect_scale=5.5, effect_period=5, symbol=\"roundRect\")  # 圆角矩形\n",
    "es.add(\"\", [40], [40], symbol_size=15, effect_scale=6.5, effect_brushtype='fill', symbol=\"diamond\")  # 菱形\n",
    "es.add(\"\", [50], [50], symbol_size=20, effect_scale=2.5, effect_period=3, symbol=\"triangle\")  # 三角形\n",
    "es.add(\"\", [60], [60], symbol_size=10, effect_scale=5.5, effect_period=3, symbol=\"arrow\")  # 箭头\n",
    "es.render(path=\"D://PycharmProjects/python/analysis/html/scatter02.html\")"
   ]
  },
  {
   "cell_type": "heading",
   "metadata": {},
   "level": 3,
   "source": [
    "漏斗图 Funnel"
   ]
  },
  {
   "cell_type": "code",
   "execution_count": 19,
   "metadata": {},
   "outputs": [],
   "source": [
    "from pyecharts import Funnel"
   ]
  },
  {
   "cell_type": "code",
   "execution_count": 20,
   "metadata": {},
   "outputs": [],
   "source": [
    "attr = [\"衬衫\", \"羊毛衫\", \"雪纺衫\", \"裤子\", \"高跟鞋\", \"袜子\"]\n",
    "value = [20, 40, 60, 80, 100, 120]\n",
    "funnel = Funnel(title=\"漏斗图示例\")\n",
    "funnel.add(\"商品\", attr, value, is_label_show=True, label_pos=\"inside\", label_text_color=\"#fff\")\n",
    "funnel.render(path=\"D://PycharmProjects/python/analysis/html/funnel.html\")"
   ]
  },
  {
   "cell_type": "heading",
   "metadata": {},
   "level": 1,
   "source": [
    "仪表盘 Gauge"
   ]
  },
  {
   "cell_type": "code",
   "execution_count": 21,
   "metadata": {},
   "outputs": [],
   "source": [
    "from pyecharts import Gauge"
   ]
  },
  {
   "cell_type": "code",
   "execution_count": 22,
   "metadata": {},
   "outputs": [],
   "source": [
    "gauge = Gauge(title=\"仪表盘示例\")\n",
    "gauge.add(name=\"业务指标\", attr=\"完成率\", value=66.66)\n",
    "gauge.render(path=\"D://PycharmProjects/python/analysis/html/gauge.html\")"
   ]
  },
  {
   "cell_type": "heading",
   "metadata": {},
   "level": 4,
   "source": [
    "水球图 Liquid"
   ]
  },
  {
   "cell_type": "code",
   "execution_count": 23,
   "metadata": {},
   "outputs": [],
   "source": [
    "from pyecharts import Liquid"
   ]
  },
  {
   "cell_type": "code",
   "execution_count": 25,
   "metadata": {},
   "outputs": [],
   "source": [
    "liquid = Liquid(title=\"水球图示例\")\n",
    "liquid.add(name=\"Liquid\", data=[0.6])\n",
    "liquid.render(path=\"D://PycharmProjects/python/analysis/html/liquid01.html\")"
   ]
  },
  {
   "cell_type": "code",
   "execution_count": 27,
   "metadata": {},
   "outputs": [],
   "source": [
    "liquid = Liquid(title=\"水球图示例\")\n",
    "liquid.add(name=\"Liquid\", data=[0.6, 0.5, 0.4, 0.3], is_liquid_outline_show=False)  # is_liquid_outline_show：是否显示边框\n",
    "liquid.render(path=\"D://PycharmProjects/python/analysis/html/liquid02.html\")"
   ]
  },
  {
   "cell_type": "code",
   "execution_count": 29,
   "metadata": {},
   "outputs": [],
   "source": [
    "liquid = Liquid(title=\"水球图示例\")\n",
    "liquid.add(name=\"Liquid\", data=[0.6, 0.5, 0.4, 0.3], is_liquid_animation=False, shape='diamond')  # is_liquid_animation：是否显示波浪动画\n",
    "liquid.render(path=\"D://PycharmProjects/python/analysis/html/liquid03.html\")"
   ]
  },
  {
   "cell_type": "heading",
   "metadata": {},
   "level": 2,
   "source": [
    "饼图 Pie"
   ]
  },
  {
   "cell_type": "code",
   "execution_count": 30,
   "metadata": {},
   "outputs": [],
   "source": [
    "from pyecharts import Pie"
   ]
  },
  {
   "cell_type": "code",
   "execution_count": 31,
   "metadata": {},
   "outputs": [],
   "source": [
    "attr = [\"衬衫\", \"羊毛衫\", \"雪纺衫\", \"裤子\", \"高跟鞋\", \"袜子\"]\n",
    "value = np.random.randint(10, 100, 6)\n",
    "pie = Pie(title=\"饼图示例\")\n",
    "pie.add(\"\", attr, value, is_label_show=True)\n",
    "pie.render(path=\"D://PycharmProjects/python/analysis/html/pie01.html\")"
   ]
  },
  {
   "cell_type": "code",
   "execution_count": 33,
   "metadata": {},
   "outputs": [],
   "source": [
    "attr = [\"衬衫\", \"羊毛衫\", \"雪纺衫\", \"裤子\", \"高跟鞋\", \"袜子\"]\n",
    "value1 = [10, 20, 30, 40, 50, 60]\n",
    "value2 = [10, 20, 30, 40, 50, 60]\n",
    "pie = Pie(title=\"饼图-玫瑰图示例\", title_pos='center', width=900)\n",
    "pie.add(\"商品A\", attr, value1, center=[25, 50], is_random=True, radius=[30, 75],  # center：饼图圆心坐标  radius：饼图半径\n",
    "        rosetype='radius')  # rosetype：是否展示成南丁格尔图,通过半径区分数据大小\n",
    "        # rosetype='radius'：扇区圆心角展现数据的百分比,半径展现数据大小;  rosetype='area'：所有扇区圆心角相同,仅通过半径展现数据大小\n",
    "pie.add(\"商品B\", attr, value2, center=[75, 50], is_random=True, radius=[30, 75], rosetype='area',\n",
    "        is_legend_show=False, is_label_show=True)\n",
    "pie.render(path=\"D://PycharmProjects/python/analysis/html/pie02.html\")"
   ]
  },
  {
   "cell_type": "code",
   "execution_count": 35,
   "metadata": {},
   "outputs": [],
   "source": [
    "attr = [\"衬衫\", \"羊毛衫\", \"雪纺衫\", \"裤子\", \"高跟鞋\", \"袜子\"]\n",
    "v1 = [11, 12, 13, 10, 10, 10]\n",
    "pie = Pie(title=\"饼图-圆环图示例\", title_pos='center')\n",
    "pie.add(\"\", attr, v1, radius=[40, 75], label_text_color=None,\n",
    "            is_label_show=True,\n",
    "            legend_orient='vertical',  # 图例展开的方向\n",
    "            legend_pos='left')  # 图例的位置\n",
    "pie.render(path=\"D://PycharmProjects/python/analysis/html/pie03.html\")"
   ]
  },
  {
   "cell_type": "heading",
   "metadata": {},
   "level": 1,
   "source": [
    "雷达图 Radar"
   ]
  },
  {
   "cell_type": "code",
   "execution_count": 51,
   "metadata": {},
   "outputs": [],
   "source": [
    "from pyecharts import Radar"
   ]
  },
  {
   "cell_type": "code",
   "execution_count": null,
   "metadata": {},
   "outputs": [],
   "source": [
    "schema = [ \n",
    "    (\"销售\", 6500), (\"管理\", 16000), (\"信息技术\", 30000),\n",
    "    (\"客服\", 38000), (\"研发\", 52000), (\"市场\", 25000)\n",
    "]\n",
    "v1 = [[4300, 10000, 28000, 35000, 50000, 19000]]\n",
    "v2 = [[5000, 14000, 28000, 31000, 42000, 21000]]\n",
    "radar = Radar(title=\"雷达图示例\")\n",
    "radar.config(schema)\n",
    "radar.add(\"预算分配\", v1, is_splitline=True,  # is_splitline：是否显示分割线 \n",
    "          is_axisline_show=True)  # is_axisline_show：是否显示坐标轴线\n",
    "radar.add(\"实际开销\", v2, label_color=[\"#4e79a7\"], is_area_show=False,  # is_area_show：是否显示填充区域\n",
    "          legend_selectedmode='single')\n",
    "radar.render(path=\"D://PycharmProjects/python/analysis/html/radar.html\")"
   ]
  },
  {
   "cell_type": "heading",
   "metadata": {},
   "level": 1,
   "source": [
    "词云图 WordCloud"
   ]
  },
  {
   "cell_type": "code",
   "execution_count": 36,
   "metadata": {},
   "outputs": [],
   "source": [
    "from pyecharts import WordCloud"
   ]
  },
  {
   "cell_type": "code",
   "execution_count": 38,
   "metadata": {},
   "outputs": [],
   "source": [
    "attr = ['Python', 'Java', '大数据', '数据分析', '可视化',\n",
    "        '人工智能', '自然语言处理', '数据挖掘', '机器学习', 'Hadoop', 'Spark',\n",
    "        'TensorFlow', 'web前段', '自动化运维', 'php', 'Linux', 'JavaScript', '爬虫', '算法', '物联网']\n",
    "value = [100, 75, 65, 55, 23, 22, 45, 40, 35, 30, 25, 20, 18, 16, 13, 10, 9, 6, 3, 1]\n",
    "# value = np.random.randint(10, 50, 20)\n",
    "wc = WordCloud(title=\"绘制词云图\", width=1000, height=500)\n",
    "wc.add(\"程序员\", attr, value, word_size_range=[20, 100])  # word_size_range：单词字体大小范围\n",
    "wc.render(path=\"D://PycharmProjects/python/analysis/html/wordcloud.html\")"
   ]
  },
  {
   "cell_type": "heading",
   "metadata": {},
   "level": 1,
   "source": [
    "热力图 HeatMap"
   ]
  },
  {
   "cell_type": "code",
   "execution_count": 41,
   "metadata": {},
   "outputs": [],
   "source": [
    "from pyecharts import HeatMap\n",
    "import random"
   ]
  },
  {
   "cell_type": "code",
   "execution_count": 42,
   "metadata": {},
   "outputs": [],
   "source": [
    "x_axis = [\"12a\", \"1a\", \"2a\", \"3a\", \"4a\", \"5a\", \"6a\", \"7a\", \"8a\", \"9a\", \"10a\", \"11a\", \"12p\", \"1p\", \"2p\", \"3p\", \"4p\", \"5p\", \"6p\", \"7p\", \"8p\", \"9p\", \"10p\", \"11p\"]\n",
    "y_aixs = [\"Saturday\", \"Friday\", \"Thursday\", \"Wednesday\", \"Tuesday\", \"Monday\", \"Sunday\"]\n",
    "data = [[i, j, random.randint(0, 50)] for i in range(24) for j in range(7)]\n",
    "hm = HeatMap(title=\"热力图示例\")\n",
    "hm.add(\"热力图直角坐标系\", x_axis, y_aixs, data, is_visualmap=True, visual_text_color=\"#000\", visual_orient='horizontal')\n",
    "hm.render(path=\"D://PycharmProjects/python/analysis/html/heatmap.html\")"
   ]
  },
  {
   "cell_type": "heading",
   "metadata": {},
   "level": 1,
   "source": [
    "地理坐标系 Geo"
   ]
  },
  {
   "cell_type": "code",
   "execution_count": 43,
   "metadata": {},
   "outputs": [],
   "source": [
    "from pyecharts import Geo"
   ]
  },
  {
   "cell_type": "code",
   "execution_count": 45,
   "metadata": {},
   "outputs": [],
   "source": [
    "data = [(\"海门\", 9),(\"鄂尔多斯\", 12),(\"招远\", 12),(\"舟山\", 12),(\"齐齐哈尔\", 14),(\"盐城\", 15),(\"赤峰\", 16),(\"青岛\", 18),(\"乳山\", 18),(\"金昌\", 19),(\"泉州\", 21),(\"莱西\", 21),(\"日照\", 21),(\"胶南\", 22),(\"南通\", 23),(\"拉萨\", 24),(\"云浮\", 24),(\"梅州\", 25),(\"文登\", 25),(\"上海\", 25),(\"攀枝花\", 25),(\"威海\", 25),(\"承德\", 25),(\"厦门\", 26),(\"汕尾\", 26),(\"潮州\", 26),(\"丹东\", 27),(\"太仓\", 27),(\"曲靖\", 27),(\"烟台\", 28),(\"福州\", 29),(\"瓦房店\", 30),(\"即墨\", 30),(\"抚顺\", 31),(\"玉溪\", 31),(\"张家口\", 31),(\"阳泉\", 31),(\"莱州\", 32),(\"湖州\", 32),(\"汕头\", 32),(\"昆山\", 33),(\"宁波\", 33),(\"湛江\", 33),(\"揭阳\", 34),(\"荣成\", 34),(\"连云港\", 35),(\"葫芦岛\", 35),(\"常熟\", 36),(\"东莞\", 36),(\"河源\", 36),(\"淮安\", 36),(\"泰州\", 36),(\"南宁\", 37),(\"营口\", 37),(\"惠州\", 37),(\"江阴\", 37),(\"蓬莱\", 37),(\"韶关\", 38),(\"嘉峪关\", 38),(\"广州\", 38),(\"延安\", 38),(\"太原\", 39),(\"清远\", 39),(\"中山\", 39),(\"昆明\", 39),(\"寿光\", 40),(\"盘锦\", 40),(\"长治\", 41),(\"深圳\", 41),(\"珠海\", 42),(\"宿迁\", 43),(\"咸阳\", 43),(\"铜川\", 44),(\"平度\", 44),(\"佛山\", 44),(\"海口\", 44),(\"江门\", 45),(\"章丘\", 45),(\"肇庆\", 46),(\"大连\", 47),(\"临汾\", 47),(\"吴江\", 47),(\"石嘴山\", 49),(\"沈阳\", 50),(\"苏州\", 50),(\"茂名\", 50),(\"嘉兴\", 51),(\"长春\", 51),(\"胶州\", 52),(\"银川\", 52),(\"张家港\", 52),(\"三门峡\", 53),(\"锦州\", 54),(\"南昌\", 54),(\"柳州\", 54),(\"三亚\", 54),(\"自贡\", 56),(\"吉林\", 56),(\"阳江\", 57),(\"泸州\", 57),(\"西宁\", 57),(\"宜宾\", 58),(\"呼和浩特\", 58),(\"成都\", 58),(\"大同\", 58),(\"镇江\", 59),(\"桂林\", 59),(\"张家界\", 59),(\"宜兴\", 59),(\"北海\", 60),(\"西安\", 61),(\"金坛\", 62),(\"东营\", 62),(\"牡丹江\", 63),(\"遵义\", 63),(\"绍兴\", 63),(\"扬州\", 64),(\"常州\", 64),(\"潍坊\", 65),(\"重庆\", 66),(\"台州\", 67),(\"南京\", 67),(\"滨州\", 70),(\"贵阳\", 71),(\"无锡\", 71),(\"本溪\", 71),(\"克拉玛依\", 72),(\"渭南\", 72),(\"马鞍山\", 72),(\"宝鸡\", 72),(\"焦作\", 75),(\"句容\", 75),(\"北京\", 79),(\"徐州\", 79),(\"衡水\", 80),(\"包头\", 80),(\"绵阳\", 80),(\"乌鲁木齐\", 84),(\"枣庄\", 84),(\"杭州\", 84),(\"淄博\", 85),(\"鞍山\", 86),(\"溧阳\", 86),(\"库尔勒\", 86),(\"安阳\", 90),(\"开封\", 90),(\"济南\", 92),(\"德阳\", 93),(\"温州\", 95),(\"九江\", 96),(\"邯郸\", 98),(\"临安\", 99),(\"兰州\", 99),(\"沧州\", 100),(\"临沂\", 103),(\"南充\", 104),(\"天津\", 105),(\"富阳\", 106),(\"泰安\", 112),(\"诸暨\", 112),(\"郑州\", 113),(\"哈尔滨\", 114),(\"聊城\", 116),(\"芜湖\", 117),(\"唐山\", 119),(\"平顶山\", 119),(\"邢台\", 119),(\"德州\", 120),(\"济宁\", 120),(\"荆州\", 127),(\"宜昌\", 130),(\"义乌\", 132),(\"丽水\", 133),(\"洛阳\", 134),(\"秦皇岛\", 136),(\"株洲\", 143),(\"石家庄\", 147),(\"莱芜\", 148),(\"常德\", 152),(\"保定\", 153),(\"湘潭\", 154),(\"金华\", 157),(\"岳阳\", 169),(\"长沙\", 175),(\"衢州\", 177),(\"廊坊\", 193),(\"菏泽\", 194),(\"合肥\", 229),(\"武汉\", 273),(\"大庆\", 279),]\n",
    "geo = Geo(title=\"全国主要城市空气质量\", subtitle=\"data from pm2.5\", title_color=\"#fff\", title_pos=\"center\",\n",
    "width=1200, height=600, background_color='#404a59')\n",
    "attr, value = geo.cast(data)\n",
    "geo.add(\"\", attr, value, visual_range=[0, 200], visual_text_color=\"#fff\", symbol_size=15, is_visualmap=True)\n",
    "geo.render(path=\"D://PycharmProjects/python/analysis/html/geo01.html\")"
   ]
  },
  {
   "cell_type": "code",
   "execution_count": 46,
   "metadata": {},
   "outputs": [],
   "source": [
    "geo = Geo(title=\"全国主要城市空气质量\", subtitle=\"data from pm2.5\", title_color=\"#fff\", title_pos=\"center\", width=1200, height=600,\n",
    "background_color='#404a59')\n",
    "attr, value = geo.cast(data)\n",
    "geo.add(\"\", attr, value, type=\"heatmap\", is_visualmap=True, visual_range=[0, 300], visual_text_color='#fff')\n",
    "geo.render(path=\"D://PycharmProjects/python/analysis/html/geo02.html\")"
   ]
  },
  {
   "cell_type": "code",
   "execution_count": 47,
   "metadata": {},
   "outputs": [],
   "source": [
    "data = [(\"海门\", 9), (\"鄂尔多斯\", 12), (\"招远\", 12), (\"舟山\", 12), (\"齐齐哈尔\", 14), (\"盐城\", 15)]\n",
    "geo = Geo(\"全国主要城市空气质量\", \"data from pm2.5\", title_color=\"#fff\", title_pos=\"center\",\n",
    "          width=1200, height=600, background_color='#404a59')\n",
    "attr, value = geo.cast(data)\n",
    "geo.add(\"\", attr, value, type=\"effectScatter\", is_random=True, effect_scale=5)\n",
    "geo.render(path=\"D://PycharmProjects/python/analysis/html/geo03.html\")"
   ]
  },
  {
   "cell_type": "heading",
   "metadata": {},
   "level": 1,
   "source": [
    "地图 Map"
   ]
  },
  {
   "cell_type": "code",
   "execution_count": 48,
   "metadata": {},
   "outputs": [],
   "source": [
    "from pyecharts import Map"
   ]
  },
  {
   "cell_type": "code",
   "execution_count": 49,
   "metadata": {},
   "outputs": [],
   "source": [
    "attr = [\"福建\", \"山东\", \"北京\", \"上海\", \"甘肃\", \"新疆\", \"河南\", \"广西\", \"西藏\"]\n",
    "value = [155, 10, 66, 78, 33, 80, 190, 53, 49.6]\n",
    "map = Map(title=\"Map 结合 VisualMap 示例\", width=1200, height=600)\n",
    "map.add(\"\", attr, value, maptype='china', is_visualmap=True, visual_text_color='#000')\n",
    "map.render(path=\"D://PycharmProjects/python/analysis/html/map01.html\")"
   ]
  },
  {
   "cell_type": "code",
   "execution_count": 50,
   "metadata": {},
   "outputs": [],
   "source": [
    "attr = ['汕头市', '汕尾市', '揭阳市', '阳江市', '肇庆市']\n",
    "value = [20, 190, 253, 77, 65]\n",
    "map = Map(title=\"广东地图示例\", width=1200, height=600)\n",
    "map.add(\"\", attr, value, maptype='广东', is_visualmap=True, visual_text_color='#000')\n",
    "map.render(path=\"D://PycharmProjects/python/analysis/html/map02.html\")"
   ]
  },
  {
   "cell_type": "code",
   "execution_count": null,
   "metadata": {},
   "outputs": [],
   "source": [
    "\n"
   ]
  },
  {
   "cell_type": "markdown",
   "metadata": {},
   "source": [
    ""
   ]
  }
 ],
 "metadata": {},
 "nbformat": 4,
 "nbformat_minor": 0
}
