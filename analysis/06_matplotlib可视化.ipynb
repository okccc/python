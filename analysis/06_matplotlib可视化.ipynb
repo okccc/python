{
 "cells": [
  {
   "cell_type": "code",
   "execution_count": null,
   "metadata": {},
   "outputs": [],
   "source": [
    "\"\"\"\n",
    "Matplotlib是Python的2D绘图库,可以生成绘图,直方图,功率谱,条形图,错误图,散点图等\n",
    "pyplot模块包含了常用的matplotlib API函数,承担了大部分的绘图任务\n",
    "\n",
    "figure对象:\n",
    "Matplotlib 的图像均位于figure对象中\n",
    "创建figure: fig = plt.figure(),如果不手动创建figure对象,matplotlib会自动生成\n",
    "\n",
    "subplot分隔区域(子图):\n",
    "subplot命令是将图片窗口划分成若干区域,按照一定顺序使得图形在每个小区域内呈现\n",
    "figure对象可以包含一个或者多个Axes(ax)对象,每个Axes对象都是一个拥有自己坐标系统的绘图区域,Axes对象有很多方法\n",
    "方式一:\n",
    "ax = plt.subplot(2, 2, 1): 表示将fig分割成2 * 2的区域,1表示当前选中区域的编号,编号从1开始\n",
    "# 等同于 fig = plt.figure(); ax = fig.add_subplot(2, 2, 1)\n",
    "ax.plot()\n",
    "plt.show()\n",
    "# 如果是: ax = plt.subplot(111),那么子图其实就是单个图\n",
    "\n",
    "方式二:\n",
    "fig, subplot_arr = plt.subplots(2, 2): 同时返回新创建的figure和subplot数组  (2, 2)表示2 * 2的区域\n",
    "subplot_arr[0, 0].plot()   [0, 0]表示2 * 2区域的第一块区域\n",
    "plt.show()\n",
    "\n",
    "注意: 不能使用关键字或保留字作为变量名和方法名，会报错 AttributeError: 'function' object has no attribute '***'\n",
    "\"\"\""
   ]
  },
  {
   "cell_type": "code",
   "execution_count": 2,
   "metadata": {},
   "outputs": [],
   "source": [
    "import numpy as np\n",
    "import matplotlib.pyplot as plt"
   ]
  },
  {
   "cell_type": "heading",
   "metadata": {},
   "level": 1,
   "source": [
    "一、单个图绘制"
   ]
  },
  {
   "cell_type": "code",
   "execution_count": 3,
   "metadata": {},
   "outputs": [],
   "source": [
    "arr = np.random.randint(low=10, high=100, size=(15,))"
   ]
  },
  {
   "cell_type": "code",
   "execution_count": 4,
   "metadata": {},
   "outputs": [
    {
     "data": {
      "text/plain": [
       "array([14, 21, 34, 45, 56, 35, 52, 19, 74, 33, 30, 45, 62, 63, 44])"
      ]
     },
     "execution_count": 4,
     "metadata": {},
     "output_type": "execute_result"
    }
   ],
   "source": [
    "arr"
   ]
  },
  {
   "cell_type": "heading",
   "metadata": {},
   "level": 2,
   "source": [
    "折线图 plot"
   ]
  },
  {
   "cell_type": "code",
   "execution_count": 5,
   "metadata": {},
   "outputs": [
    {
     "data": {
      "text/plain": [
       "[<matplotlib.lines.Line2D at 0x2799d061518>]"
      ]
     },
     "execution_count": 5,
     "metadata": {},
     "output_type": "execute_result"
    }
   ],
   "source": [
    "plt.plot(arr)"
   ]
  },
  {
   "cell_type": "code",
   "execution_count": 6,
   "metadata": {},
   "outputs": [],
   "source": [
    "# plt.savefig(\"aaa.png\")  # 保存图片(暂不支持jpg格式)"
   ]
  },
  {
   "cell_type": "code",
   "execution_count": 7,
   "metadata": {},
   "outputs": [],
   "source": [
    "plt.show()  # 注意：show()方法放在最后,因为关闭图片程序才会停止"
   ]
  },
  {
   "cell_type": "heading",
   "metadata": {},
   "level": 2,
   "source": [
    "单柱形图 hist"
   ]
  },
  {
   "cell_type": "code",
   "execution_count": 8,
   "metadata": {},
   "outputs": [
    {
     "data": {
      "text/plain": [
       "(array([2., 1., 1., 3., 0., 3., 1., 1., 2., 1.]),\n array([14., 20., 26., 32., 38., 44., 50., 56., 62., 68., 74.]),\n <a list of 10 Patch objects>)"
      ]
     },
     "execution_count": 8,
     "metadata": {},
     "output_type": "execute_result"
    }
   ],
   "source": [
    "# hist(): bins是柱子个数,color是柱子颜色,alpha是柱子透明度(默认是1)\n",
    "plt.hist(arr, bins=10, color='r', alpha=0.5)  "
   ]
  },
  {
   "cell_type": "code",
   "execution_count": 9,
   "metadata": {},
   "outputs": [],
   "source": [
    "plt.show()"
   ]
  },
  {
   "cell_type": "heading",
   "metadata": {},
   "level": 2,
   "source": [
    "多柱形图 bar"
   ]
  },
  {
   "cell_type": "code",
   "execution_count": 10,
   "metadata": {},
   "outputs": [],
   "source": [
    "# 创建x、y坐标\n",
    "x = np.arange(5)\n",
    "y1, y2 = np.random.randint(low=10, high=20, size=(2, 5))"
   ]
  },
  {
   "cell_type": "code",
   "execution_count": 11,
   "metadata": {},
   "outputs": [
    {
     "data": {
      "text/plain": [
       "<BarContainer object of 5 artists>"
      ]
     },
     "execution_count": 11,
     "metadata": {},
     "output_type": "execute_result"
    }
   ],
   "source": [
    "# bar(): 指定x和y1的柱子,width是柱子宽度,color是柱子颜色,alpha是柱子透明度\n",
    "plt.bar(x, y1, width=0.25, color='r', alpha=0.5)\n",
    "# 指定x和y2柱子,x轴基于原点向右偏移0.25个单位\n",
    "plt.bar(x + 0.25, y2, width=0.25, color='b')"
   ]
  },
  {
   "cell_type": "code",
   "execution_count": 12,
   "metadata": {},
   "outputs": [],
   "source": [
    "plt.show()"
   ]
  },
  {
   "cell_type": "heading",
   "metadata": {},
   "level": 2,
   "source": [
    "散点图 scatter"
   ]
  },
  {
   "cell_type": "code",
   "execution_count": 13,
   "metadata": {},
   "outputs": [],
   "source": [
    "# 创建x、y坐标\n",
    "x = np.random.randint(low=10, high=100, size=200)\n",
    "y = x + 10 * np.random.randn(200)"
   ]
  },
  {
   "cell_type": "code",
   "execution_count": 14,
   "metadata": {},
   "outputs": [
    {
     "data": {
      "text/plain": [
       "<matplotlib.collections.PathCollection at 0x2799d509f28>"
      ]
     },
     "execution_count": 14,
     "metadata": {},
     "output_type": "execute_result"
    }
   ],
   "source": [
    "# scatter(): 指定x和y坐标,根据坐标位置绘制图形\n",
    "plt.scatter(x, y, edgecolors='r', alpha=0.5)"
   ]
  },
  {
   "cell_type": "code",
   "execution_count": 16,
   "metadata": {},
   "outputs": [],
   "source": [
    "plt.show()"
   ]
  },
  {
   "cell_type": "heading",
   "metadata": {},
   "level": 2,
   "source": [
    "矩阵绘图 imshow"
   ]
  },
  {
   "cell_type": "code",
   "execution_count": 17,
   "metadata": {},
   "outputs": [],
   "source": [
    "arr = np.random.rand(3, 4)"
   ]
  },
  {
   "cell_type": "code",
   "execution_count": 18,
   "metadata": {},
   "outputs": [
    {
     "data": {
      "text/plain": [
       "<matplotlib.image.AxesImage at 0x2799d676860>"
      ]
     },
     "execution_count": 18,
     "metadata": {},
     "output_type": "execute_result"
    }
   ],
   "source": [
    "# imshow(): 创建一个混淆矩阵,和二维数组数据分布相同,cmap可以选择混淆矩阵的主题\n",
    "plt.imshow(arr, cmap=None)"
   ]
  },
  {
   "cell_type": "code",
   "execution_count": 19,
   "metadata": {},
   "outputs": [
    {
     "data": {
      "text/plain": [
       "<matplotlib.colorbar.Colorbar at 0x2799d3af860>"
      ]
     },
     "execution_count": 19,
     "metadata": {},
     "output_type": "execute_result"
    }
   ],
   "source": [
    "plt.colorbar()  # 显示颜色条,用来表示数据大小"
   ]
  },
  {
   "cell_type": "code",
   "execution_count": 20,
   "metadata": {},
   "outputs": [],
   "source": [
    "plt.show()"
   ]
  },
  {
   "cell_type": "heading",
   "metadata": {},
   "level": 1,
   "source": [
    "二、使用子图"
   ]
  },
  {
   "cell_type": "code",
   "execution_count": 21,
   "metadata": {},
   "outputs": [],
   "source": [
    "arr = np.random.randint(low=10, high=50, size=15)"
   ]
  },
  {
   "cell_type": "code",
   "execution_count": 22,
   "metadata": {
    "collapsed": false
   },
   "outputs": [
    {
     "data": {
      "text/plain": [
       "array([12, 20, 33, 34, 34, 20, 47, 15, 17, 20, 26, 14, 29, 34, 37])"
      ]
     },
     "execution_count": 22,
     "metadata": {},
     "output_type": "execute_result"
    }
   ],
   "source": [
    "arr"
   ]
  },
  {
   "cell_type": "heading",
   "metadata": {},
   "level": 2,
   "source": [
    "subplot()"
   ]
  },
  {
   "cell_type": "code",
   "execution_count": 23,
   "metadata": {},
   "outputs": [],
   "source": [
    "# plt.subplot()将figure对象划分为2*2个小画板,第三个参数表示使用哪一块\n",
    "ax1 = plt.subplot(2, 2, 1)\n",
    "ax2 = plt.subplot(2, 2, 2)\n",
    "ax3 = plt.subplot(2, 2, 3)\n",
    "ax4 = plt.subplot(2, 2, 4)"
   ]
  },
  {
   "cell_type": "code",
   "execution_count": 24,
   "metadata": {},
   "outputs": [
    {
     "data": {
      "text/plain": [
       "(matplotlib.axes._subplots.AxesSubplot,\n <matplotlib.axes._subplots.AxesSubplot at 0x2799e7d5da0>)"
      ]
     },
     "execution_count": 24,
     "metadata": {},
     "output_type": "execute_result"
    }
   ],
   "source": [
    "type(ax1), ax1"
   ]
  },
  {
   "cell_type": "code",
   "execution_count": 25,
   "metadata": {},
   "outputs": [
    {
     "data": {
      "text/plain": [
       "[<matplotlib.lines.Line2D at 0x2799e83d6d8>]"
      ]
     },
     "execution_count": 25,
     "metadata": {},
     "output_type": "execute_result"
    }
   ],
   "source": [
    "# 在划分好的不同区域做图\n",
    "ax1.plot(arr)\n",
    "ax2.plot(arr)\n",
    "ax3.plot(arr)\n",
    "ax4.plot(arr)"
   ]
  },
  {
   "cell_type": "code",
   "execution_count": 26,
   "metadata": {},
   "outputs": [],
   "source": [
    "plt.show()"
   ]
  },
  {
   "cell_type": "heading",
   "metadata": {},
   "level": 2,
   "source": [
    "subplots()"
   ]
  },
  {
   "cell_type": "code",
   "execution_count": 27,
   "metadata": {},
   "outputs": [],
   "source": [
    "# plt.subplots()创建一个2*2区域的figure对象和subplot对象数组\n",
    "fig, axs = plt.subplots(nrows=2, ncols=2)"
   ]
  },
  {
   "cell_type": "code",
   "execution_count": 28,
   "metadata": {},
   "outputs": [
    {
     "data": {
      "text/plain": [
       "(matplotlib.figure.Figure,\n <Figure size 640x480 with 4 Axes>,\n numpy.ndarray,\n array([[<matplotlib.axes._subplots.AxesSubplot object at 0x000002799E871780>,\n         <matplotlib.axes._subplots.AxesSubplot object at 0x000002799E9C9BE0>],\n        [<matplotlib.axes._subplots.AxesSubplot object at 0x000002799E9E3F28>,\n         <matplotlib.axes._subplots.AxesSubplot object at 0x000002799EA014A8>]],\n       dtype=object))"
      ]
     },
     "execution_count": 28,
     "metadata": {},
     "output_type": "execute_result"
    }
   ],
   "source": [
    "type(fig), fig, type(axs), axs"
   ]
  },
  {
   "cell_type": "code",
   "execution_count": 29,
   "metadata": {},
   "outputs": [
    {
     "data": {
      "text/plain": [
       "(array([3., 1., 3., 0., 2., 0., 4., 1., 0., 1.]),\n array([12. , 15.5, 19. , 22.5, 26. , 29.5, 33. , 36.5, 40. , 43.5, 47. ]),\n <a list of 10 Patch objects>)"
      ]
     },
     "execution_count": 29,
     "metadata": {},
     "output_type": "execute_result"
    }
   ],
   "source": [
    "# 在指定区域作图: 当figure图像被分成了>2块个子图,数组的索引要包含行索引和列索引\n",
    "axs[0, 1].plot(arr)\n",
    "axs[1, 1].hist(arr)"
   ]
  },
  {
   "cell_type": "code",
   "execution_count": 30,
   "metadata": {},
   "outputs": [],
   "source": [
    "plt.show()"
   ]
  },
  {
   "cell_type": "heading",
   "metadata": {},
   "level": 1,
   "source": [
    "三、matplotlib图例"
   ]
  },
  {
   "cell_type": "code",
   "execution_count": 31,
   "metadata": {},
   "outputs": [],
   "source": [
    "# 解决matplotlib中文显示问题\n",
    "plt.rcParams['font.sans-serif'] = ['SimHei']  # 指定默认字体\n",
    "plt.rcParams['axes.unicode_minus'] = False  # 解决保存图像时负号'-'显示为方块的问题"
   ]
  },
  {
   "cell_type": "code",
   "execution_count": 32,
   "metadata": {},
   "outputs": [],
   "source": [
    "# 创建子图: 111表示该子图就是单个图,目的是为了使用Axes对象的很多方法\n",
    "ax = plt.subplot(111)"
   ]
  },
  {
   "cell_type": "code",
   "execution_count": 33,
   "metadata": {},
   "outputs": [
    {
     "data": {
      "text/plain": [
       "Text(0.5, 1.0, '西门大酒店销售额年度报表')"
      ]
     },
     "execution_count": 33,
     "metadata": {},
     "output_type": "execute_result"
    }
   ],
   "source": [
    "# 给当前绘图命名\n",
    "ax.set_title(\"西门大酒店销售额年度报表\")  "
   ]
  },
  {
   "cell_type": "code",
   "execution_count": 34,
   "metadata": {},
   "outputs": [
    {
     "data": {
      "text/plain": [
       "Text(0, 0.5, '销售额(万)')"
      ]
     },
     "execution_count": 34,
     "metadata": {},
     "output_type": "execute_result"
    }
   ],
   "source": [
    "# 给x、y轴添加名称\n",
    "ax.set_xlabel(\"月份\")\n",
    "ax.set_ylabel(\"销售额(万)\")  "
   ]
  },
  {
   "cell_type": "code",
   "execution_count": 35,
   "metadata": {
    "collapsed": true
   },
   "outputs": [
    {
     "data": {
      "text/plain": [
       "[<matplotlib.axis.XTick at 0x2799ebb2e80>,\n <matplotlib.axis.XTick at 0x2799ebb29b0>,\n <matplotlib.axis.XTick at 0x2799e866c50>,\n <matplotlib.axis.XTick at 0x2799ebcc860>,\n <matplotlib.axis.XTick at 0x2799ebca128>,\n <matplotlib.axis.XTick at 0x2799ebca588>,\n <matplotlib.axis.XTick at 0x2799ebb26d8>,\n <matplotlib.axis.XTick at 0x2799ebcaeb8>,\n <matplotlib.axis.XTick at 0x2799ebd13c8>,\n <matplotlib.axis.XTick at 0x2799ebcaa20>,\n <matplotlib.axis.XTick at 0x2799ebccc18>,\n <matplotlib.axis.XTick at 0x2799ebd1a20>]"
      ]
     },
     "execution_count": 35,
     "metadata": {},
     "output_type": "execute_result"
    }
   ],
   "source": [
    "# 给x轴添加刻度标签和步长\n",
    "ax.set_xticklabels([\"Jan\", \"Feb\", \"Mar\", \"Apr\", \"May\", \"Jun\", \"Jul\", \"Aug\", \"Sep\", \"Oct\", \"Nov\", \"Dec\"])\n",
    "ax.set_xticks(range(0, 12, 1))"
   ]
  },
  {
   "cell_type": "code",
   "execution_count": 36,
   "metadata": {},
   "outputs": [
    {
     "data": {
      "text/plain": [
       "[<matplotlib.axis.YTick at 0x2799ebba0b8>,\n <matplotlib.axis.YTick at 0x2799ebb4908>,\n <matplotlib.axis.YTick at 0x2799ebb2710>,\n <matplotlib.axis.YTick at 0x2799ebcc630>,\n <matplotlib.axis.YTick at 0x2799ebd74e0>]"
      ]
     },
     "execution_count": 36,
     "metadata": {},
     "output_type": "execute_result"
    }
   ],
   "source": [
    "# 给y轴添加刻度范围和步长\n",
    "ax.set_ylim(0, 100)\n",
    "ax.set_yticks(range(0, 100, 20))"
   ]
  },
  {
   "cell_type": "code",
   "execution_count": 37,
   "metadata": {},
   "outputs": [
    {
     "data": {
      "text/plain": [
       "[<matplotlib.lines.Line2D at 0x2799ebd1908>]"
      ]
     },
     "execution_count": 37,
     "metadata": {},
     "output_type": "execute_result"
    }
   ],
   "source": [
    "# 设置图例: label是该条线的标签,会在图例中显示\n",
    "ax.plot(np.random.randint(10, 80, 12), label=\"黄焖鸡\", color=\"r\", alpha=0.5)\n",
    "ax.plot(np.random.randint(20, 90, 12), label=\"沙县小吃\", color=\"g\", alpha=0.5)\n",
    "ax.plot(np.random.randint(30, 100, 12), label=\"兰州牛肉面\", color=\"y\", alpha=0.5)"
   ]
  },
  {
   "cell_type": "code",
   "execution_count": 38,
   "metadata": {},
   "outputs": [
    {
     "data": {
      "text/plain": [
       "<matplotlib.legend.Legend at 0x2799ea39390>"
      ]
     },
     "execution_count": 38,
     "metadata": {},
     "output_type": "execute_result"
    }
   ],
   "source": [
    "# 显示图例并且自动调整位置\n",
    "ax.legend()"
   ]
  },
  {
   "cell_type": "code",
   "execution_count": 39,
   "metadata": {},
   "outputs": [],
   "source": [
    "plt.show()"
   ]
  },
  {
   "cell_type": "code",
   "execution_count": null,
   "metadata": {},
   "outputs": [],
   "source": []
  },
  {
   "cell_type": "code",
   "execution_count": null,
   "metadata": {},
   "outputs": [],
   "source": []
  }
 ],
 "metadata": {
  "kernelspec": {
   "display_name": "Python 2",
   "language": "python",
   "name": "python2"
  },
  "language_info": {
   "codemirror_mode": {
    "name": "ipython",
    "version": 2
   },
   "file_extension": ".py",
   "mimetype": "text/x-python",
   "name": "python",
   "nbconvert_exporter": "python",
   "pygments_lexer": "ipython2",
   "version": "2.7.6"
  }
 },
 "nbformat": 4,
 "nbformat_minor": 0
}
